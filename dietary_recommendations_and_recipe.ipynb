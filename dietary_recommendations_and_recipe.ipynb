{
 "cells": [
  {
   "cell_type": "code",
   "execution_count": null,
   "metadata": {
    "colab": {
     "base_uri": "https://localhost:8080/"
    },
    "id": "HKP1iQZzA4_8",
    "outputId": "6c72c98f-70c8-4806-83d9-10d763a1f081"
   },
   "outputs": [
    {
     "name": "stdout",
     "output_type": "stream",
     "text": [
      "1/1 [==============================] - 0s 84ms/step\n",
      "Recipe recommendations for Alex:\n",
      "Greek Yogurt with Berries\n",
      "Omelette\n",
      "Grilled Chicken Salad\n"
     ]
    }
   ],
   "source": [
    "import numpy as np\n",
    "import pandas as pd\n",
    "import tensorflow as tf\n",
    "from tensorflow.keras.models import Model\n",
    "from tensorflow.keras.layers import Input, Dense, Concatenate\n",
    "from tensorflow.keras.optimizers import Adam\n",
    "from sklearn.preprocessing import LabelEncoder, StandardScaler\n",
    "\n",
    "data = {\n",
    "    'Meal': ['Breakfast', 'Lunch', 'Dinner', 'Snack'],\n",
    "    'Nutrition Goals': ['Lose Weight', 'Gain Muscle', 'Lose Weight', 'Maintain Weight'],\n",
    "    'Workout Intensity': ['High', 'Medium', 'High', 'Low'],\n",
    "    'Recipe': ['Omelette', 'Grilled Chicken Salad', 'Salmon with Veggies', 'Greek Yogurt with Berries'],\n",
    "    'Pantry': ['Eggs, Spinach', 'Chicken, Lettuce', 'Salmon, Broccoli', 'Greek Yogurt, Berries'],\n",
    "}\n",
    "\n",
    "df = pd.DataFrame(data)\n",
    "\n",
    "encoder = LabelEncoder()\n",
    "df['Meal_ID'] = encoder.fit_transform(df['Meal'])\n",
    "df['Nutrition_Goals_ID'] = encoder.fit_transform(df['Nutrition Goals'])\n",
    "df['Workout_Intensity_ID'] = encoder.fit_transform(df['Workout Intensity'])\n",
    "\n",
    "pantry_items = df['Pantry'].str.get_dummies(', ')\n",
    "pantry_items.columns = [f'Pantry_{item}' for item in pantry_items.columns]\n",
    "\n",
    "features = pd.concat([df[['Meal_ID', 'Nutrition_Goals_ID', 'Workout_Intensity_ID']], pantry_items], axis=1)\n",
    "\n",
    "scaler = StandardScaler()\n",
    "scaled_features = scaler.fit_transform(features)\n",
    "\n",
    "input_layer = Input(shape=(scaled_features.shape[1],), name='Input')\n",
    "\n",
    "dense_layer_1 = Dense(16, activation='relu')(input_layer)\n",
    "dense_layer_2 = Dense(8, activation='relu')(dense_layer_1)\n",
    "output_layer = Dense(len(df), activation='softmax')(dense_layer_2)\n",
    "\n",
    "model = Model(inputs=input_layer, outputs=output_layer)\n",
    "\n",
    "model.compile(optimizer=Adam(learning_rate=0.001), loss='categorical_crossentropy', metrics=['accuracy'])\n",
    "\n",
    "X = scaled_features\n",
    "y = tf.keras.utils.to_categorical(df.index)\n",
    "\n",
    "model.fit(X, y, epochs=50, batch_size=4, verbose=0)\n",
    "\n",
    "alex_data = {\n",
    "    'Meal_ID': [0],  \n",
    "    'Nutrition_Goals_ID': [0], \n",
    "    'Workout_Intensity_ID': [2], \n",
    "    'Pantry_Eggs': [1],\n",
    "    'Pantry_Spinach': [1],\n",
    "    'Pantry_Chicken': [0],\n",
    "    'Pantry_Lettuce': [0],\n",
    "    'Pantry_Salmon': [0],\n",
    "    'Pantry_Broccoli': [0],\n",
    "    'Pantry_Greek Yogurt': [1],\n",
    "    'Pantry_Berries': [1],\n",
    "}\n",
    "\n",
    "alex_features = pd.DataFrame(alex_data)\n",
    "alex_scaled_features = scaler.transform(alex_features[features.columns])  # Ensure feature order matches\n",
    "alex_recommendations = model.predict(alex_scaled_features)\n",
    "\n",
    "top_recommendations = alex_recommendations.argsort()[0][-3:][::-1]\n",
    "recommended_recipes = df['Recipe'].iloc[top_recommendations].tolist()\n",
    "\n",
    "print(\"Recipe recommendations for Alex:\")\n",
    "for recipe in recommended_recipes:\n",
    "    print(recipe)\n"
   ]
  },
  {
   "cell_type": "code",
   "execution_count": null,
   "metadata": {
    "id": "2dJUNWf7BJ4w"
   },
   "outputs": [],
   "source": []
  },
  {
   "cell_type": "code",
   "execution_count": 8,
   "metadata": {
    "colab": {
     "base_uri": "https://localhost:8080/",
     "height": 148
    },
    "id": "sUPNns-M_LNL",
    "outputId": "ce255604-5716-4594-86e5-cbabbb374906"
   },
   "outputs": [
    {
     "ename": "SyntaxError",
     "evalue": "ignored",
     "output_type": "error",
     "traceback": [
      "\u001b[0;36m  File \u001b[0;32m\"<ipython-input-8-2c8dad426fa9>\"\u001b[0;36m, line \u001b[0;32m1\u001b[0m\n\u001b[0;31m    In MyFitnessPal, MLNE helps Alex log her meals and recommends dietary adjustments based on her nutrition goals and workout intensity. It could suggest new recipes that align with her dietary goals and what she has in her pantry, optimizing her meal planning process.\u001b[0m\n\u001b[0m       ^\u001b[0m\n\u001b[0;31mSyntaxError\u001b[0m\u001b[0;31m:\u001b[0m invalid syntax\n"
     ]
    }
   ],
   "source": [
    "In MyFitnessPal, MLNE helps Alex log her meals and recommends dietary adjustments based\n",
    "on her nutrition goals and workout intensity. It could suggest new recipes that align with her dietary goals\n",
    "and what she has in her pantry, optimizing her meal planning process."
   ]
  },
  {
   "cell_type": "code",
   "execution_count": null,
   "metadata": {
    "id": "M9u9ZKyz-srR"
   },
   "outputs": [],
   "source": []
  }
 ],
 "metadata": {
  "colab": {
   "provenance": []
  },
  "kernelspec": {
   "display_name": "Python 3",
   "language": "python",
   "name": "python3"
  },
  "language_info": {
   "codemirror_mode": {
    "name": "ipython",
    "version": 3
   },
   "file_extension": ".py",
   "mimetype": "text/x-python",
   "name": "python",
   "nbconvert_exporter": "python",
   "pygments_lexer": "ipython3",
   "version": "3.8.5"
  }
 },
 "nbformat": 4,
 "nbformat_minor": 1
}
